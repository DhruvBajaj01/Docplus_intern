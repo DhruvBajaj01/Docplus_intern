{
  "nbformat": 4,
  "nbformat_minor": 0,
  "metadata": {
    "colab": {
      "name": "Translate.ipynb",
      "provenance": []
    },
    "kernelspec": {
      "name": "python3",
      "display_name": "Python 3"
    },
    "language_info": {
      "name": "python"
    }
  },
  "cells": [
    {
      "cell_type": "markdown",
      "metadata": {
        "id": "mepm3kc5eeWF"
      },
      "source": [
        "# SCRIPT for TRANSLATION\n",
        "\n",
        "Scripts needs to work in the following steps:\n",
        "1. Translate english values\n",
        "2. Pair them with their keys\n",
        "3. Save as a CSV in CSV folder (for all languages + english)\n",
        "4. Save as a json in json folder (for all languages)\n",
        "\n",
        "\n"
      ]
    },
    {
      "cell_type": "code",
      "metadata": {
        "colab": {
          "base_uri": "https://localhost:8080/"
        },
        "id": "ycti_3b2QiGo",
        "outputId": "0efee265-28ff-4673-b1e2-ac3a7176480f"
      },
      "source": [
        "!pip install deep-translator tqdm"
      ],
      "execution_count": 1,
      "outputs": [
        {
          "output_type": "stream",
          "text": [
            "Collecting deep-translator\n",
            "  Downloading deep_translator-1.5.4-py3-none-any.whl (29 kB)\n",
            "Requirement already satisfied: tqdm in /usr/local/lib/python3.7/dist-packages (4.62.0)\n",
            "Collecting click<9.0.0,>=8.0.1\n",
            "  Downloading click-8.0.1-py3-none-any.whl (97 kB)\n",
            "\u001b[K     |████████████████████████████████| 97 kB 4.1 MB/s \n",
            "\u001b[?25hCollecting beautifulsoup4<5.0.0,>=4.9.1\n",
            "  Downloading beautifulsoup4-4.9.3-py3-none-any.whl (115 kB)\n",
            "\u001b[K     |████████████████████████████████| 115 kB 39.0 MB/s \n",
            "\u001b[?25hRequirement already satisfied: requests<3.0.0,>=2.23.0 in /usr/local/lib/python3.7/dist-packages (from deep-translator) (2.23.0)\n",
            "Collecting soupsieve>1.2\n",
            "  Downloading soupsieve-2.2.1-py3-none-any.whl (33 kB)\n",
            "Requirement already satisfied: importlib-metadata in /usr/local/lib/python3.7/dist-packages (from click<9.0.0,>=8.0.1->deep-translator) (4.6.4)\n",
            "Requirement already satisfied: idna<3,>=2.5 in /usr/local/lib/python3.7/dist-packages (from requests<3.0.0,>=2.23.0->deep-translator) (2.10)\n",
            "Requirement already satisfied: urllib3!=1.25.0,!=1.25.1,<1.26,>=1.21.1 in /usr/local/lib/python3.7/dist-packages (from requests<3.0.0,>=2.23.0->deep-translator) (1.24.3)\n",
            "Requirement already satisfied: chardet<4,>=3.0.2 in /usr/local/lib/python3.7/dist-packages (from requests<3.0.0,>=2.23.0->deep-translator) (3.0.4)\n",
            "Requirement already satisfied: certifi>=2017.4.17 in /usr/local/lib/python3.7/dist-packages (from requests<3.0.0,>=2.23.0->deep-translator) (2021.5.30)\n",
            "Requirement already satisfied: zipp>=0.5 in /usr/local/lib/python3.7/dist-packages (from importlib-metadata->click<9.0.0,>=8.0.1->deep-translator) (3.5.0)\n",
            "Requirement already satisfied: typing-extensions>=3.6.4 in /usr/local/lib/python3.7/dist-packages (from importlib-metadata->click<9.0.0,>=8.0.1->deep-translator) (3.7.4.3)\n",
            "Installing collected packages: soupsieve, click, beautifulsoup4, deep-translator\n",
            "  Attempting uninstall: click\n",
            "    Found existing installation: click 7.1.2\n",
            "    Uninstalling click-7.1.2:\n",
            "      Successfully uninstalled click-7.1.2\n",
            "  Attempting uninstall: beautifulsoup4\n",
            "    Found existing installation: beautifulsoup4 4.6.3\n",
            "    Uninstalling beautifulsoup4-4.6.3:\n",
            "      Successfully uninstalled beautifulsoup4-4.6.3\n",
            "\u001b[31mERROR: pip's dependency resolver does not currently take into account all the packages that are installed. This behaviour is the source of the following dependency conflicts.\n",
            "flask 1.1.4 requires click<8.0,>=5.1, but you have click 8.0.1 which is incompatible.\u001b[0m\n",
            "Successfully installed beautifulsoup4-4.9.3 click-8.0.1 deep-translator-1.5.4 soupsieve-2.2.1\n"
          ],
          "name": "stdout"
        }
      ]
    },
    {
      "cell_type": "code",
      "metadata": {
        "id": "jEDqmAo5QkH0"
      },
      "source": [
        "from deep_translator import MyMemoryTranslator\n",
        "from deep_translator import GoogleTranslator\n",
        "import pandas as pd\n",
        "from tqdm import tqdm"
      ],
      "execution_count": 2,
      "outputs": []
    },
    {
      "cell_type": "code",
      "metadata": {
        "colab": {
          "base_uri": "https://localhost:8080/"
        },
        "id": "coZt__TaJH5M",
        "outputId": "f2293a73-bb0f-4b25-cc6b-63c661edf4c9"
      },
      "source": [
        "import os\n",
        "from google.colab import drive\n",
        "drive.mount('drive/')"
      ],
      "execution_count": 6,
      "outputs": [
        {
          "output_type": "stream",
          "text": [
            "Mounted at drive/\n"
          ],
          "name": "stdout"
        }
      ]
    },
    {
      "cell_type": "code",
      "metadata": {
        "id": "4-w8kKYVJPPR"
      },
      "source": [
        "os.chdir('drive/My Drive/language')"
      ],
      "execution_count": 7,
      "outputs": []
    },
    {
      "cell_type": "code",
      "metadata": {
        "id": "e1zhtjWghUCq"
      },
      "source": [
        "# list of languages supported by deep_translator with language code\n",
        "GL= {\n",
        "    'af': 'afrikaans',\n",
        "    'sq': 'albanian',\n",
        "    'am': 'amharic',\n",
        "    'ar': 'arabic',\n",
        "    'hy': 'armenian',\n",
        "    'az': 'azerbaijani',\n",
        "    'eu': 'basque',\n",
        "    'be': 'belarusian',\n",
        "    'bn': 'bengali',\n",
        "    'bs': 'bosnian',\n",
        "    'bg': 'bulgarian',\n",
        "    'ca': 'catalan',\n",
        "    'ceb': 'cebuano',\n",
        "    'ny': 'chichewa',\n",
        "    'zh-cn': 'chinese (simplified)',\n",
        "    'zh-tw': 'chinese (traditional)',\n",
        "    'co': 'corsican',\n",
        "    'hr': 'croatian',\n",
        "    'cs': 'czech',\n",
        "    'da': 'danish',\n",
        "    'nl': 'dutch',\n",
        "    'en': 'english',\n",
        "    'eo': 'esperanto',\n",
        "    'et': 'estonian',\n",
        "    'tl': 'filipino',\n",
        "    'fi': 'finnish',\n",
        "    'fr': 'french',\n",
        "    'fy': 'frisian',\n",
        "    'gl': 'galician',\n",
        "    'ka': 'georgian',\n",
        "    'de': 'german',\n",
        "    'el': 'greek',\n",
        "    'gu': 'gujarati',\n",
        "    'ht': 'haitian creole',\n",
        "    'ha': 'hausa',\n",
        "    'haw': 'hawaiian',\n",
        "    'iw': 'hebrew',\n",
        "    'he': 'hebrew',\n",
        "    'hi': 'hindi',\n",
        "    'hmn': 'hmong',\n",
        "    'hu': 'hungarian',\n",
        "    'is': 'icelandic',\n",
        "    'ig': 'igbo',\n",
        "    'id': 'indonesian',\n",
        "    'ga': 'irish',\n",
        "    'it': 'italian',\n",
        "    'ja': 'japanese',\n",
        "    'jw': 'javanese',\n",
        "    'kn': 'kannada',\n",
        "    'kk': 'kazakh',\n",
        "    'km': 'khmer',\n",
        "    'ko': 'korean',\n",
        "    'ku': 'kurdish (kurmanji)',\n",
        "    'ky': 'kyrgyz',\n",
        "    'lo': 'lao',\n",
        "    'la': 'latin',\n",
        "    'lv': 'latvian',\n",
        "    'lt': 'lithuanian',\n",
        "    'lb': 'luxembourgish',\n",
        "    'mk': 'macedonian',\n",
        "    'mg': 'malagasy',\n",
        "    'ms': 'malay',\n",
        "    'ml': 'malayalam',\n",
        "    'mt': 'maltese',\n",
        "    'mi': 'maori',\n",
        "    'mr': 'marathi',\n",
        "    'mn': 'mongolian',\n",
        "    'my': 'myanmar (burmese)',\n",
        "    'ne': 'nepali',\n",
        "    'no': 'norwegian',\n",
        "    'or': 'odia',\n",
        "    'ps': 'pashto',\n",
        "    'fa': 'farsi',\n",
        "    'pl': 'polish',\n",
        "    'pt': 'portuguese',\n",
        "    'pa': 'punjabi',\n",
        "    'ro': 'romanian',\n",
        "    'ru': 'russian',\n",
        "    'sm': 'samoan',\n",
        "    'gd': 'scots gaelic',\n",
        "    'sr': 'serbian',\n",
        "    'st': 'sesotho',\n",
        "    'sn': 'shona',\n",
        "    'sd': 'sindhi',\n",
        "    'si': 'sinhala',\n",
        "    'sk': 'slovak',\n",
        "    'sl': 'slovenian',\n",
        "    'so': 'somali',\n",
        "    'es': 'spanish',\n",
        "    'su': 'sundanese',\n",
        "    'sw': 'swahili',\n",
        "    'sv': 'swedish',\n",
        "    'tg': 'tajik',\n",
        "    'ta': 'tamil',\n",
        "    'te': 'telugu',\n",
        "    'th': 'thai',\n",
        "    'tr': 'turkish',\n",
        "    'uk': 'ukrainian',\n",
        "    'ur': 'urdu',\n",
        "    'ug': 'uyghur',\n",
        "    'uz': 'uzbek',\n",
        "    'vi': 'vietnamese',\n",
        "    'cy': 'welsh',\n",
        "    'xh': 'xhosa',\n",
        "    'yi': 'yiddish',\n",
        "    'yo': 'yoruba',\n",
        "    'zu': 'zulu',}\n",
        "\n",
        "gl = {}\n",
        "for k, v in GL.items():\n",
        "  # saving language name as key with language code as value\n",
        "  gl[v] = k"
      ],
      "execution_count": 3,
      "outputs": []
    },
    {
      "cell_type": "code",
      "metadata": {
        "id": "EAPcwfKh0JDj"
      },
      "source": [
        "# Translates list to given format\n",
        "def translateCsv(tx, item):\n",
        "    tt = []\n",
        "    if(item=='burmese'):\n",
        "      item='myanmar (burmese)'\n",
        "\n",
        "    for i in tqdm(range(len(tx)), desc=item):\n",
        "        try:\n",
        "            b = MyMemoryTranslator(source=\"en\", target=gl[item]).translate(text=tx[i])\n",
        "        except:\n",
        "            try:\n",
        "                b = GoogleTranslator(source='auto', target=gl[item]).translate(text=tx[i])\n",
        "            except Exception as e:\n",
        "                b = tx[i]\n",
        "                print(e)\n",
        "        tt.append(b)\n",
        "    return tt"
      ],
      "execution_count": 4,
      "outputs": []
    },
    {
      "cell_type": "code",
      "metadata": {
        "id": "8AUd0GiERDGE"
      },
      "source": [
        "english = pd.read_json('translation.json', orient='index')\n",
        "tx = english[0].to_numpy()"
      ],
      "execution_count": 8,
      "outputs": []
    },
    {
      "cell_type": "code",
      "metadata": {
        "colab": {
          "base_uri": "https://localhost:8080/"
        },
        "id": "rqn2iaHCRMZy",
        "outputId": "02246766-e43a-43ac-eca6-67be67eab513"
      },
      "source": [
        "tx"
      ],
      "execution_count": 9,
      "outputs": [
        {
          "output_type": "execute_result",
          "data": {
            "text/plain": [
              "array(['Select Language', 'Hello, Welcome to React', 'This is an example',\n",
              "       ..., 'Drag to reorder', 'Add more', 'Upload'], dtype=object)"
            ]
          },
          "metadata": {},
          "execution_count": 9
        }
      ]
    },
    {
      "cell_type": "code",
      "metadata": {
        "id": "iEk_xcvLTYm2"
      },
      "source": [
        "languages = pd.read_csv('languages.csv', header=None)[0].to_numpy()"
      ],
      "execution_count": 10,
      "outputs": []
    },
    {
      "cell_type": "code",
      "metadata": {
        "colab": {
          "base_uri": "https://localhost:8080/",
          "height": 35
        },
        "id": "ACtVE2-DTbhh",
        "outputId": "f5e8970b-b226-423a-e235-182085ca5569"
      },
      "source": [
        "languages[1]"
      ],
      "execution_count": 11,
      "outputs": [
        {
          "output_type": "execute_result",
          "data": {
            "application/vnd.google.colaboratory.intrinsic+json": {
              "type": "string"
            },
            "text/plain": [
              "'arabic'"
            ]
          },
          "metadata": {},
          "execution_count": 11
        }
      ]
    },
    {
      "cell_type": "code",
      "metadata": {
        "colab": {
          "base_uri": "https://localhost:8080/"
        },
        "id": "yPASryaaRbBv",
        "outputId": "ee74df43-8475-4dbf-dc9e-8db6c6b23ca1"
      },
      "source": [
        "for item in languages[36:43]:\n",
        "    tt = translateCsv(tx, item)\n",
        "    frame = pd.DataFrame(tt)\n",
        "    frame.index = english.index\n",
        "\n",
        "    # save to excel\n",
        "    frame.to_csv( f'{item}.csv', header=False)\n",
        "    # save to json\n",
        "    frame.transpose().to_json(f'{item}.json',\n",
        "                              orient='records', lines=True,\n",
        "                              force_ascii=False)"
      ],
      "execution_count": 12,
      "outputs": [
        {
          "output_type": "stream",
          "text": [
            "russian:  26%|██▋       | 311/1175 [03:53<13:21,  1.08it/s]"
          ],
          "name": "stderr"
        },
        {
          "output_type": "stream",
          "text": [
            "2021 --> text must be a valid text with maximum 5000 character, otherwise it cannot be translated\n"
          ],
          "name": "stdout"
        },
        {
          "output_type": "stream",
          "text": [
            "russian: 100%|██████████| 1175/1175 [15:50<00:00,  1.24it/s]\n",
            "sindhi:  26%|██▋       | 311/1175 [05:03<13:09,  1.09it/s]"
          ],
          "name": "stderr"
        },
        {
          "output_type": "stream",
          "text": [
            "2021 --> text must be a valid text with maximum 5000 character, otherwise it cannot be translated\n"
          ],
          "name": "stdout"
        },
        {
          "output_type": "stream",
          "text": [
            "sindhi: 100%|██████████| 1175/1175 [19:31<00:00,  1.00it/s]\n",
            "sinhala:  26%|██▋       | 311/1175 [04:42<11:41,  1.23it/s]"
          ],
          "name": "stderr"
        },
        {
          "output_type": "stream",
          "text": [
            "2021 --> text must be a valid text with maximum 5000 character, otherwise it cannot be translated\n"
          ],
          "name": "stdout"
        },
        {
          "output_type": "stream",
          "text": [
            "sinhala: 100%|██████████| 1175/1175 [18:38<00:00,  1.05it/s]\n",
            "slovak:  26%|██▋       | 311/1175 [04:40<11:23,  1.26it/s]"
          ],
          "name": "stderr"
        },
        {
          "output_type": "stream",
          "text": [
            "2021 --> text must be a valid text with maximum 5000 character, otherwise it cannot be translated\n"
          ],
          "name": "stdout"
        },
        {
          "output_type": "stream",
          "text": [
            "slovak: 100%|██████████| 1175/1175 [17:55<00:00,  1.09it/s]\n",
            "spanish:  26%|██▋       | 311/1175 [03:44<11:35,  1.24it/s]"
          ],
          "name": "stderr"
        },
        {
          "output_type": "stream",
          "text": [
            "2021 --> text must be a valid text with maximum 5000 character, otherwise it cannot be translated\n"
          ],
          "name": "stdout"
        },
        {
          "output_type": "stream",
          "text": [
            "spanish: 100%|██████████| 1175/1175 [14:37<00:00,  1.34it/s]\n",
            "tajik:  26%|██▋       | 311/1175 [05:18<11:51,  1.21it/s]"
          ],
          "name": "stderr"
        },
        {
          "output_type": "stream",
          "text": [
            "2021 --> text must be a valid text with maximum 5000 character, otherwise it cannot be translated\n"
          ],
          "name": "stdout"
        },
        {
          "output_type": "stream",
          "text": [
            "tajik: 100%|██████████| 1175/1175 [20:56<00:00,  1.07s/it]\n",
            "tamil:  26%|██▋       | 311/1175 [04:34<13:12,  1.09it/s]"
          ],
          "name": "stderr"
        },
        {
          "output_type": "stream",
          "text": [
            "2021 --> text must be a valid text with maximum 5000 character, otherwise it cannot be translated\n"
          ],
          "name": "stdout"
        },
        {
          "output_type": "stream",
          "text": [
            "tamil: 100%|██████████| 1175/1175 [18:01<00:00,  1.09it/s]\n"
          ],
          "name": "stderr"
        }
      ]
    },
    {
      "cell_type": "code",
      "metadata": {
        "id": "1L_DhYAOT8sG"
      },
      "source": [
        ""
      ],
      "execution_count": null,
      "outputs": []
    }
  ]
}