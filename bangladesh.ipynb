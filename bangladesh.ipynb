{
 "cells": [
  {
   "cell_type": "code",
   "execution_count": 9,
   "id": "ce142c36-213a-4312-ac4a-a863ca240e29",
   "metadata": {},
   "outputs": [
    {
     "name": "stderr",
     "output_type": "stream",
     "text": [
      "\n",
      "\n",
      "====== WebDriver manager ======\n",
      "Current google-chrome version is 96.0.4664\n",
      "Get LATEST driver version for 96.0.4664\n",
      "Driver [C:\\Users\\Dhruv Bajaj\\.wdm\\drivers\\chromedriver\\win32\\96.0.4664.45\\chromedriver.exe] found in cache\n"
     ]
    }
   ],
   "source": [
    "import pandas as pd\n",
    "from selenium import webdriver\n",
    "from webdriver_manager.chrome import ChromeDriverManager\n",
    "from selenium.webdriver.common.action_chains import ActionChains\n",
    "from selenium.webdriver.common.keys import Keys\n",
    "from selenium.webdriver.support import expected_conditions as EC\n",
    "from selenium.webdriver.common.by import By\n",
    "from selenium.webdriver.support.wait import WebDriverWait\n",
    "from selenium.webdriver.chrome.service import Service\n",
    "import numpy as np\n",
    "from bs4 import BeautifulSoup\n",
    "import time, os, requests, csv\n",
    "\n",
    "options = webdriver.ChromeOptions()\n",
    "# options = webdriver.ChromeOptions()\n",
    "options.add_experimental_option(\"excludeSwitches\", [\"enable-automation\"])\n",
    "options.add_experimental_option('useAutomationExtension', False)\n",
    "options.add_argument(\"--disable-blink-features\")\n",
    "options.add_argument(\"--disable-blink-features=AutomationControlled\")\n",
    "\n",
    "prefs = {\"profile.default_content_setting_values.notifications\": 2}\n",
    "\n",
    "options.add_experimental_option(\"prefs\", prefs)\n",
    "\n",
    "driver = webdriver.Chrome(ChromeDriverManager().install(), options=options)"
   ]
  },
  {
   "cell_type": "code",
   "execution_count": 50,
   "id": "ea41d057-834a-4dda-82be-19e76db4d02d",
   "metadata": {},
   "outputs": [
    {
     "name": "stderr",
     "output_type": "stream",
     "text": [
      "\n",
      "\n",
      "====== WebDriver manager ======\n",
      "Current google-chrome version is 96.0.4664\n",
      "Get LATEST driver version for 96.0.4664\n",
      "Driver [C:\\Users\\Dhruv Bajaj\\.wdm\\drivers\\chromedriver\\win32\\96.0.4664.45\\chromedriver.exe] found in cache\n"
     ]
    },
    {
     "name": "stdout",
     "output_type": "stream",
     "text": [
      "['http://www.medicaldirectorybd.com/doctor/specialist_doctor_detalis/7/223', 'http://www.medicaldirectorybd.com/doctor/specialist_doctor_detalis/7/224', 'http://www.medicaldirectorybd.com/doctor/specialist_doctor_detalis/7/225', 'http://www.medicaldirectorybd.com/doctor/specialist_doctor_detalis/7/191', 'http://www.medicaldirectorybd.com/doctor/specialist_doctor_detalis/7/226', 'http://www.medicaldirectorybd.com/doctor/specialist_doctor_detalis/7/227', 'http://www.medicaldirectorybd.com/doctor/specialist_doctor_detalis/7/192', 'http://www.medicaldirectorybd.com/doctor/specialist_doctor_detalis/7/228', 'http://www.medicaldirectorybd.com/doctor/specialist_doctor_detalis/7/229', 'http://www.medicaldirectorybd.com/doctor/specialist_doctor_detalis/7/230', 'http://www.medicaldirectorybd.com/doctor/specialist_doctor_detalis/7/194', 'http://www.medicaldirectorybd.com/doctor/specialist_doctor_detalis/7/231', 'http://www.medicaldirectorybd.com/doctor/specialist_doctor_detalis/7/232', 'http://www.medicaldirectorybd.com/doctor/specialist_doctor_detalis/7/233', 'http://www.medicaldirectorybd.com/doctor/specialist_doctor_detalis/7/193', 'http://www.medicaldirectorybd.com/doctor/specialist_doctor_detalis/7/202', 'http://www.medicaldirectorybd.com/doctor/specialist_doctor_detalis/7/234', 'http://www.medicaldirectorybd.com/doctor/specialist_doctor_detalis/7/235', 'http://www.medicaldirectorybd.com/doctor/specialist_doctor_detalis/7/203', 'http://www.medicaldirectorybd.com/doctor/specialist_doctor_detalis/7/197', 'http://www.medicaldirectorybd.com/doctor/specialist_doctor_detalis/7/236', 'http://www.medicaldirectorybd.com/doctor/specialist_doctor_detalis/7/204', 'http://www.medicaldirectorybd.com/doctor/specialist_doctor_detalis/7/237', 'http://www.medicaldirectorybd.com/doctor/specialist_doctor_detalis/7/238', 'http://www.medicaldirectorybd.com/doctor/specialist_doctor_detalis/7/239', 'http://www.medicaldirectorybd.com/doctor/specialist_doctor_detalis/7/205', 'http://www.medicaldirectorybd.com/doctor/specialist_doctor_detalis/7/240', 'http://www.medicaldirectorybd.com/doctor/specialist_doctor_detalis/7/241', 'http://www.medicaldirectorybd.com/doctor/specialist_doctor_detalis/7/242', 'http://www.medicaldirectorybd.com/doctor/specialist_doctor_detalis/7/243', 'http://www.medicaldirectorybd.com/doctor/specialist_doctor_detalis/7/206', 'http://www.medicaldirectorybd.com/doctor/specialist_doctor_detalis/7/207', 'http://www.medicaldirectorybd.com/doctor/specialist_doctor_detalis/7/196', 'http://www.medicaldirectorybd.com/doctor/specialist_doctor_detalis/7/195', 'http://www.medicaldirectorybd.com/doctor/specialist_doctor_detalis/7/208', 'http://www.medicaldirectorybd.com/doctor/specialist_doctor_detalis/7/186', 'http://www.medicaldirectorybd.com/doctor/specialist_doctor_detalis/7/209', 'http://www.medicaldirectorybd.com/doctor/specialist_doctor_detalis/7/210', 'http://www.medicaldirectorybd.com/doctor/specialist_doctor_detalis/7/222', 'http://www.medicaldirectorybd.com/doctor/specialist_doctor_detalis/7/251', 'http://www.medicaldirectorybd.com/doctor/specialist_doctor_detalis/7/211', 'http://www.medicaldirectorybd.com/doctor/specialist_doctor_detalis/7/212', 'http://www.medicaldirectorybd.com/doctor/specialist_doctor_detalis/7/200', 'http://www.medicaldirectorybd.com/doctor/specialist_doctor_detalis/7/213', 'http://www.medicaldirectorybd.com/doctor/specialist_doctor_detalis/7/201', 'http://www.medicaldirectorybd.com/doctor/specialist_doctor_detalis/7/214', 'http://www.medicaldirectorybd.com/doctor/specialist_doctor_detalis/7/215', 'http://www.medicaldirectorybd.com/doctor/specialist_doctor_detalis/7/216', 'http://www.medicaldirectorybd.com/doctor/specialist_doctor_detalis/7/217', 'http://www.medicaldirectorybd.com/doctor/specialist_doctor_detalis/7/218', 'http://www.medicaldirectorybd.com/doctor/specialist_doctor_detalis/7/219', 'http://www.medicaldirectorybd.com/doctor/specialist_doctor_detalis/7/220', 'http://www.medicaldirectorybd.com/doctor/specialist_doctor_detalis/7/221', 'http://www.medicaldirectorybd.com/doctor/specialist_doctor_detalis/7/198', 'http://www.medicaldirectorybd.com/doctor/specialist_doctor_detalis/7/188', 'http://www.medicaldirectorybd.com/doctor/specialist_doctor_detalis/7/190', 'http://www.medicaldirectorybd.com/doctor/specialist_doctor_detalis/7/189', 'http://www.medicaldirectorybd.com/doctor/specialist_doctor_detalis/7/187']\n"
     ]
    }
   ],
   "source": [
    "chrome_options = webdriver.ChromeOptions()\n",
    "\n",
    "driver = webdriver.Chrome(ChromeDriverManager().install(),options=chrome_options)\n",
    "url1=\"http://www.medicaldirectorybd.com/doctor/specialist/7\"\n",
    "driver.get(url1)\n",
    "ls=[]\n",
    "for i in range(1,59):\n",
    "    names = driver.find_element(By.XPATH,'/html/body/table/tbody/tr[2]/td/table/tbody/tr[3]/td/table/tbody/tr/td[1]/div['+str(i)+']/div[4]/div[1]/a').get_attribute(\"href\")\n",
    "    ls.append(names)\n",
    "\n",
    "print(ls)"
   ]
  },
  {
   "cell_type": "code",
   "execution_count": 51,
   "id": "07fea4f1-b0c5-44cc-a4e1-7513129576f7",
   "metadata": {},
   "outputs": [],
   "source": [
    "data= []"
   ]
  },
  {
   "cell_type": "code",
   "execution_count": 52,
   "id": "535e6934-d893-4eac-8f93-ca0369818a60",
   "metadata": {
    "tags": []
   },
   "outputs": [],
   "source": [
    "\n",
    "def info(link):\n",
    "    source = requests.get(link).text\n",
    "    soup = BeautifulSoup(source, 'lxml')\n",
    "    info = soup.find('div', class_='main_tex').text\n",
    "    inf =info.split(\"\\n\")\n",
    "    ls = []\n",
    "    for i in inf:\n",
    "        if (i!=\"\" and i!=\"\\t\\t\\t\\t\\t\\t\"):\n",
    "            ls.append(i)\n",
    "    #print(ls)\n",
    "    ds =[]\n",
    "    for i in ls:\n",
    "        i= i.split(\": \\xa0&nbsp\")\n",
    "        if len(i)==2:\n",
    "            ds.append(i)\n",
    "    #print(ds)\n",
    "\n",
    "    ds = dict(ds)\n",
    "    #print(ds)\n",
    "    data.append(ds)\n",
    "    return data\n"
   ]
  },
  {
   "cell_type": "code",
   "execution_count": null,
   "id": "c51e442d-8e91-4803-9722-8ead2fd8340a",
   "metadata": {},
   "outputs": [],
   "source": [
    "for i in ls:\n",
    "    info(i)"
   ]
  },
  {
   "cell_type": "code",
   "execution_count": null,
   "id": "056855d9-7345-41b5-953f-2775d778c74e",
   "metadata": {},
   "outputs": [],
   "source": [
    "df = pd.DataFrame.from_dict(data)"
   ]
  },
  {
   "cell_type": "code",
   "execution_count": null,
   "id": "0329c432-446f-4e38-9be6-4a23eef60595",
   "metadata": {},
   "outputs": [],
   "source": [
    "df.to_csv('bangladesh.csv', mode='a', header=False)"
   ]
  },
  {
   "cell_type": "code",
   "execution_count": null,
   "id": "29ce59db-3e73-408e-b948-96ff1cf9c6b3",
   "metadata": {},
   "outputs": [],
   "source": [
    "df"
   ]
  },
  {
   "cell_type": "code",
   "execution_count": null,
   "id": "e1a9393d-596b-4960-84da-ca5ca990bbd4",
   "metadata": {},
   "outputs": [],
   "source": []
  }
 ],
 "metadata": {
  "kernelspec": {
   "display_name": "Python 3 (ipykernel)",
   "language": "python",
   "name": "python3"
  },
  "language_info": {
   "codemirror_mode": {
    "name": "ipython",
    "version": 3
   },
   "file_extension": ".py",
   "mimetype": "text/x-python",
   "name": "python",
   "nbconvert_exporter": "python",
   "pygments_lexer": "ipython3",
   "version": "3.8.5"
  }
 },
 "nbformat": 4,
 "nbformat_minor": 5
}
