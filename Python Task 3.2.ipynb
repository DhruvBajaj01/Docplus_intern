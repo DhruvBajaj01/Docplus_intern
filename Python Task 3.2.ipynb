{
 "cells": [
  {
   "cell_type": "code",
   "execution_count": 26,
   "metadata": {},
   "outputs": [],
   "source": [
    "import pandas as pd\n",
    "from selenium import webdriver\n",
    "from webdriver_manager.chrome import ChromeDriverManager\n",
    "import pandas as pd\n",
    "import time\n",
    "import os\n",
    "from selenium.webdriver.common.action_chains import ActionChains\n"
   ]
  },
  {
   "cell_type": "code",
   "execution_count": 27,
   "metadata": {},
   "outputs": [
    {
     "name": "stderr",
     "output_type": "stream",
     "text": [
      "\n",
      "\n",
      "====== WebDriver manager ======\n",
      "Current google-chrome version is 91.0.4472\n",
      "Get LATEST driver version for 91.0.4472\n",
      "Driver [C:\\Users\\Dhruv Bajaj\\.wdm\\drivers\\chromedriver\\win32\\91.0.4472.101\\chromedriver.exe] found in cache\n"
     ]
    }
   ],
   "source": [
    "driver = webdriver.Chrome(ChromeDriverManager().install())\n",
    "url1=\"https://www.getdoc.com/en/appointments/search/results?clinic_name=&proximity=10&specialisation_id=&country_code=MY&gender=&insurance_id=&date=&panel_id=&sort=NAME&mylocation=&search-type=type-clinic\"\n",
    "driver.get(url1)"
   ]
  },
  {
   "cell_type": "code",
   "execution_count": 28,
   "metadata": {},
   "outputs": [],
   "source": [
    "SCROLL_PAUSE_TIME = 0.2\n",
    "\n",
    "# Get scroll height\n",
    "last_height = driver.execute_script(\"return document.body.scrollHeight\")\n",
    "\n",
    "while True:\n",
    "    # Scroll down to bottom\n",
    "    driver.execute_script(\"window.scrollTo(0, document.body.scrollHeight);\")\n",
    "\n",
    "    # Wait to load page\n",
    "    time.sleep(SCROLL_PAUSE_TIME)\n",
    "\n",
    "    # Calculate new scroll height and compare with last scroll height\n",
    "    new_height = driver.execute_script(\"return document.body.scrollHeight\")\n",
    "    if new_height == last_height:\n",
    "        break\n",
    "    last_height = new_height"
   ]
  },
  {
   "cell_type": "code",
   "execution_count": 29,
   "metadata": {},
   "outputs": [
    {
     "name": "stdout",
     "output_type": "stream",
     "text": [
      "2031\n"
     ]
    }
   ],
   "source": [
    "main_list=driver.find_elements_by_class_name(\"item\")\n",
    "print(len(main_list))"
   ]
  },
  {
   "cell_type": "code",
   "execution_count": 30,
   "metadata": {},
   "outputs": [
    {
     "name": "stdout",
     "output_type": "stream",
     "text": [
      "[Qualitas Health] Ambulatory Care Centre @ ACC Evesuite Medical Centre\n"
     ]
    }
   ],
   "source": [
    "doctors=main_list[1].find_element_by_id(\"list_doctor\")\n",
    "print(main_list[1].find_element_by_class_name(\"name\").text)"
   ]
  },
  {
   "cell_type": "code",
   "execution_count": 31,
   "metadata": {},
   "outputs": [
    {
     "name": "stdout",
     "output_type": "stream",
     "text": [
      "10\n"
     ]
    }
   ],
   "source": [
    "name_list=doctors.find_elements_by_class_name(\"row\")\n",
    "print( len(name_list))"
   ]
  },
  {
   "cell_type": "code",
   "execution_count": 32,
   "metadata": {},
   "outputs": [
    {
     "name": "stdout",
     "output_type": "stream",
     "text": [
      "Datin Dr Omkara Rubini Lingham\n",
      "Ear, Nose & Throat (ENT)\n",
      "Dr Asokumaran A/L Thanaraj\n",
      "Eye - Ophthalmologist\n",
      "Dr Chua Wei Siong\n",
      "Orthopaedic Surgeon - Bone\n",
      "Dr Gordon Pang Hwa\n",
      "Geriatrician - Elderly Health, Physician (Internal Medicine)\n",
      "Dr Muhammad Daniel Soma Kumar Bin Abdullah\n",
      "General Surgeon\n",
      "Dr Muhammad Niraj Bin Muhammad Feizal\n",
      "Obstetrician & Gynaecologist\n",
      "Dr Sandev Singh\n",
      "Gastroenterologist - Gut, Physician (Internal Medicine)\n",
      "Dr Shereen Shoba A/P Devaraj Nair\n",
      "Ear, Nose & Throat (ENT)\n",
      "Dr Vijeyasingam Rajasingam\n",
      "General Surgeon, Vascular Surgeon\n",
      "Dr Vishalkumar Dalichand\n",
      "Obstetrician & Gynaecologist\n"
     ]
    }
   ],
   "source": [
    "for i in name_list:\n",
    "    print(i.find_element_by_tag_name(\"a\").text)\n",
    "    print(i.find_element_by_tag_name(\"p\").text)"
   ]
  },
  {
   "cell_type": "code",
   "execution_count": 33,
   "metadata": {},
   "outputs": [
    {
     "name": "stdout",
     "output_type": "stream",
     "text": [
      "No. 4A, Jalan Lembah 19, Bandar Seri Alam, 81750 Masai, Johor\n"
     ]
    }
   ],
   "source": [
    "print(main_list[0].find_element_by_class_name(\"address\").text)"
   ]
  },
  {
   "cell_type": "code",
   "execution_count": 34,
   "metadata": {},
   "outputs": [],
   "source": [
    "tel_list=main_list[0].find_elements_by_class_name(\"enquire-clinic-wrap\")\n",
    "tel=tel_list[1].find_element_by_tag_name(\"button\").text\n"
   ]
  },
  {
   "cell_type": "code",
   "execution_count": 35,
   "metadata": {},
   "outputs": [],
   "source": [
    "tel1=driver.find_element_by_id(\"modal-clinic-number\")\n",
    "#print(tel1.find_element_by_tag_name(\"a\").text)\n"
   ]
  },
  {
   "cell_type": "code",
   "execution_count": 36,
   "metadata": {},
   "outputs": [],
   "source": [
    "\n",
    "ActionChains(driver).move_by_offset(200, 100).click().perform()"
   ]
  },
  {
   "cell_type": "code",
   "execution_count": 37,
   "metadata": {},
   "outputs": [],
   "source": [
    "main_list=driver.find_elements_by_class_name(\"item\")\n",
    "df_main=pd.DataFrame()\n",
    "for i in range(len(main_list)):\n",
    "    \n",
    "    doctors=main_list[i].find_element_by_id(\"list_doctor\")\n",
    "    dr_name_list=doctors.find_elements_by_class_name(\"row\")\n",
    "    while True:\n",
    "        address=main_list[i].find_element_by_class_name(\"address\").text\n",
    "        if(address!=''):\n",
    "            break\n",
    "    while True:\n",
    "        clinic=main_list[i].find_element_by_class_name(\"name\").text\n",
    "        if(clinic!=''):\n",
    "            break\n",
    "    dr=[]\n",
    "    dr_spe=[]\n",
    "    dr_url=[]\n",
    "    for j in dr_name_list:\n",
    "        while True:\n",
    "            drr=j.find_element_by_tag_name(\"a\").text\n",
    "            dr_spee=j.find_element_by_tag_name(\"p\").text\n",
    "            if(drr!='' and 'dr_spee'!=''):\n",
    "                break\n",
    "        url=j.find_element_by_tag_name(\"img\")\n",
    "        dr_url.append(url.get_attribute(\"src\"))\n",
    "        dr.append(drr)\n",
    "        dr_spe.append(dr_spee)\n",
    "    flag=False\n",
    "    tel_list=main_list[i].find_elements_by_class_name(\"enquire-clinic-wrap\")\n",
    "    if(len(tel_list)>=2):\n",
    "        b=tel_list[1].find_element_by_tag_name(\"button\")\n",
    "        if(b.text==\"CALL\"):\n",
    "            b.click()\n",
    "        else:\n",
    "            continue\n",
    "    elif(len(tel_list)==1):\n",
    "        b=tel_list[0].find_element_by_tag_name(\"button\")\n",
    "        if(b.text==\"CALL\"):\n",
    "            b.click()\n",
    "        else:\n",
    "            continue\n",
    "    elif(len(tel_list)==0):\n",
    "        flag=True\n",
    "    \n",
    "    \n",
    "    driver.implicitly_wait(5)\n",
    "    tel1=driver.find_element_by_id(\"modal-clinic-number\")\n",
    "    #driver.implicitly_wait(5)\n",
    "    while True:\n",
    "        tell=tel1.find_element_by_tag_name(\"a\").text\n",
    "        if(tell!='' or flag==True):\n",
    "            break;\n",
    "    \n",
    "    element=driver.find_element_by_xpath(\"//button[text()='Close']\")\n",
    "    size = element.size\n",
    "    w, h = size['width'], size['height']\n",
    "    try:\n",
    "        ActionChains(driver).move_by_offset(w,h).click().perform()\n",
    "    except:\n",
    "        ActionChains(driver).move_by_offset(300, 100).click().perform()\n",
    "    \n",
    "    Data={\n",
    "        'clinic':clinic,\n",
    "        'doctor-name':dr,\n",
    "        'Speciality':dr_spe,\n",
    "        'doctor_image':dr_url,\n",
    "        'address':address,\n",
    "        'telephone': tell\n",
    "    }\n",
    "    df_main=df_main.append(Data,ignore_index=True)\n",
    "\n",
    "    "
   ]
  },
  {
   "cell_type": "code",
   "execution_count": 38,
   "metadata": {},
   "outputs": [
    {
     "data": {
      "text/html": [
       "<div>\n",
       "<style scoped>\n",
       "    .dataframe tbody tr th:only-of-type {\n",
       "        vertical-align: middle;\n",
       "    }\n",
       "\n",
       "    .dataframe tbody tr th {\n",
       "        vertical-align: top;\n",
       "    }\n",
       "\n",
       "    .dataframe thead th {\n",
       "        text-align: right;\n",
       "    }\n",
       "</style>\n",
       "<table border=\"1\" class=\"dataframe\">\n",
       "  <thead>\n",
       "    <tr style=\"text-align: right;\">\n",
       "      <th></th>\n",
       "      <th>Speciality</th>\n",
       "      <th>address</th>\n",
       "      <th>clinic</th>\n",
       "      <th>doctor-name</th>\n",
       "      <th>doctor_image</th>\n",
       "      <th>telephone</th>\n",
       "    </tr>\n",
       "  </thead>\n",
       "  <tbody>\n",
       "    <tr>\n",
       "      <th>0</th>\n",
       "      <td>[Ambulance]</td>\n",
       "      <td>No. 4A, Jalan Lembah 19, Bandar Seri Alam, 817...</td>\n",
       "      <td>Lifesaver Ambulance Johor</td>\n",
       "      <td>[Dr Lifesaver Ambulance Johor]</td>\n",
       "      <td>[https://www.getdoc.com/en/common/image/displa...</td>\n",
       "      <td>+6019 999 5800</td>\n",
       "    </tr>\n",
       "    <tr>\n",
       "      <th>1</th>\n",
       "      <td>[Ear, Nose &amp; Throat (ENT), Eye - Ophthalmologi...</td>\n",
       "      <td>Evesuite@Ara Damansara, A-1-01, Jln PJU 1/41A ...</td>\n",
       "      <td>[Qualitas Health] Ambulatory Care Centre @ ACC...</td>\n",
       "      <td>[Datin Dr Omkara Rubini Lingham, Dr Asokumaran...</td>\n",
       "      <td>[https://www.getdoc.com/en/common/image/displa...</td>\n",
       "      <td>+603 7886 4916</td>\n",
       "    </tr>\n",
       "    <tr>\n",
       "      <th>2</th>\n",
       "      <td>[GP/Family Doctor]</td>\n",
       "      <td>No. A-5, Jalan Stadium, 25000 Kuantan</td>\n",
       "      <td>[Qualitas Health] Ananda Klinik</td>\n",
       "      <td>[Dr. Raj Kumar David]</td>\n",
       "      <td>[https://www.getdoc.com/en/common/image/displa...</td>\n",
       "      <td>+09-5138 175</td>\n",
       "    </tr>\n",
       "    <tr>\n",
       "      <th>3</th>\n",
       "      <td>[GP/Family Doctor]</td>\n",
       "      <td>Bangsar Lot G116, Ground Floor, Bangsar Shoppi...</td>\n",
       "      <td>[Qualitas Health] Clinic @ Bangsar</td>\n",
       "      <td>[SUMAM MARY JOHN]</td>\n",
       "      <td>[https://www.getdoc.com/en/common/image/displa...</td>\n",
       "      <td>+03-2011 4336</td>\n",
       "    </tr>\n",
       "    <tr>\n",
       "      <th>4</th>\n",
       "      <td>[GP/Family Doctor]</td>\n",
       "      <td>70-01-64, Level One, D’Piazza Mall, Jalan Mahs...</td>\n",
       "      <td>[Qualitas Health] Klinik Aman (Bandar Bayan Baru)</td>\n",
       "      <td>[Dr Ho Yuen Yu]</td>\n",
       "      <td>[https://www.getdoc.com/en/common/image/displa...</td>\n",
       "      <td>+04-6452793</td>\n",
       "    </tr>\n",
       "    <tr>\n",
       "      <th>...</th>\n",
       "      <td>...</td>\n",
       "      <td>...</td>\n",
       "      <td>...</td>\n",
       "      <td>...</td>\n",
       "      <td>...</td>\n",
       "      <td>...</td>\n",
       "    </tr>\n",
       "    <tr>\n",
       "      <th>2017</th>\n",
       "      <td>[GP/Family Doctor]</td>\n",
       "      <td>No.q002, Gf, Block Q, Jalan Pju 10/2b, Damansa...</td>\n",
       "      <td>Wong &amp; Liew Clinic (damansara Damai)</td>\n",
       "      <td>[Dr. Wong Kevin]</td>\n",
       "      <td>[https://www.getdoc.com/en/common/image/displa...</td>\n",
       "      <td>+03-61575726</td>\n",
       "    </tr>\n",
       "    <tr>\n",
       "      <th>2018</th>\n",
       "      <td>[GP/Family Doctor]</td>\n",
       "      <td>Ad 102, Batu Kawah Newtownship, Jln Batu Kawa,...</td>\n",
       "      <td>Wong Family Clinic</td>\n",
       "      <td>[Wong Mee Heang]</td>\n",
       "      <td>[https://www.getdoc.com/en/common/image/displa...</td>\n",
       "      <td>+6082 457815</td>\n",
       "    </tr>\n",
       "    <tr>\n",
       "      <th>2019</th>\n",
       "      <td>[Dentist - General]</td>\n",
       "      <td>25-2, Jalan Pju 8/5a, Damansara Perdana, Petal...</td>\n",
       "      <td>Yong Klinik Pakar Periodental Dan Pergigian De...</td>\n",
       "      <td>[Yong Hui Ping]</td>\n",
       "      <td>[https://www.getdoc.com/en/common/image/displa...</td>\n",
       "      <td>+60 377105828</td>\n",
       "    </tr>\n",
       "    <tr>\n",
       "      <th>2020</th>\n",
       "      <td>[Aesthetic Doctor]</td>\n",
       "      <td>D-06-Gf, Garden Shoppe One City, Jalan Usj 25/...</td>\n",
       "      <td>Ys Clinic</td>\n",
       "      <td>[Yang Sheng Por]</td>\n",
       "      <td>[https://www.getdoc.com/en/common/image/displa...</td>\n",
       "      <td>+60 380116708</td>\n",
       "    </tr>\n",
       "    <tr>\n",
       "      <th>2021</th>\n",
       "      <td>[GP/Family Doctor]</td>\n",
       "      <td>No.12a-g, Jalan Setia Dagang Al U13/al, Setia ...</td>\n",
       "      <td>Yuri Clinique (setia Alam)</td>\n",
       "      <td>[Dr. Muhammad Hafiz Bin Yyuri]</td>\n",
       "      <td>[https://www.getdoc.com/en/common/image/displa...</td>\n",
       "      <td>+03-33597322</td>\n",
       "    </tr>\n",
       "  </tbody>\n",
       "</table>\n",
       "<p>2022 rows × 6 columns</p>\n",
       "</div>"
      ],
      "text/plain": [
       "                                             Speciality  \\\n",
       "0                                           [Ambulance]   \n",
       "1     [Ear, Nose & Throat (ENT), Eye - Ophthalmologi...   \n",
       "2                                    [GP/Family Doctor]   \n",
       "3                                    [GP/Family Doctor]   \n",
       "4                                    [GP/Family Doctor]   \n",
       "...                                                 ...   \n",
       "2017                                 [GP/Family Doctor]   \n",
       "2018                                 [GP/Family Doctor]   \n",
       "2019                                [Dentist - General]   \n",
       "2020                                 [Aesthetic Doctor]   \n",
       "2021                                 [GP/Family Doctor]   \n",
       "\n",
       "                                                address  \\\n",
       "0     No. 4A, Jalan Lembah 19, Bandar Seri Alam, 817...   \n",
       "1     Evesuite@Ara Damansara, A-1-01, Jln PJU 1/41A ...   \n",
       "2                 No. A-5, Jalan Stadium, 25000 Kuantan   \n",
       "3     Bangsar Lot G116, Ground Floor, Bangsar Shoppi...   \n",
       "4     70-01-64, Level One, D’Piazza Mall, Jalan Mahs...   \n",
       "...                                                 ...   \n",
       "2017  No.q002, Gf, Block Q, Jalan Pju 10/2b, Damansa...   \n",
       "2018  Ad 102, Batu Kawah Newtownship, Jln Batu Kawa,...   \n",
       "2019  25-2, Jalan Pju 8/5a, Damansara Perdana, Petal...   \n",
       "2020  D-06-Gf, Garden Shoppe One City, Jalan Usj 25/...   \n",
       "2021  No.12a-g, Jalan Setia Dagang Al U13/al, Setia ...   \n",
       "\n",
       "                                                 clinic  \\\n",
       "0                             Lifesaver Ambulance Johor   \n",
       "1     [Qualitas Health] Ambulatory Care Centre @ ACC...   \n",
       "2                       [Qualitas Health] Ananda Klinik   \n",
       "3                    [Qualitas Health] Clinic @ Bangsar   \n",
       "4     [Qualitas Health] Klinik Aman (Bandar Bayan Baru)   \n",
       "...                                                 ...   \n",
       "2017               Wong & Liew Clinic (damansara Damai)   \n",
       "2018                                 Wong Family Clinic   \n",
       "2019  Yong Klinik Pakar Periodental Dan Pergigian De...   \n",
       "2020                                          Ys Clinic   \n",
       "2021                         Yuri Clinique (setia Alam)   \n",
       "\n",
       "                                            doctor-name  \\\n",
       "0                        [Dr Lifesaver Ambulance Johor]   \n",
       "1     [Datin Dr Omkara Rubini Lingham, Dr Asokumaran...   \n",
       "2                                 [Dr. Raj Kumar David]   \n",
       "3                                     [SUMAM MARY JOHN]   \n",
       "4                                       [Dr Ho Yuen Yu]   \n",
       "...                                                 ...   \n",
       "2017                                   [Dr. Wong Kevin]   \n",
       "2018                                   [Wong Mee Heang]   \n",
       "2019                                    [Yong Hui Ping]   \n",
       "2020                                   [Yang Sheng Por]   \n",
       "2021                     [Dr. Muhammad Hafiz Bin Yyuri]   \n",
       "\n",
       "                                           doctor_image       telephone  \n",
       "0     [https://www.getdoc.com/en/common/image/displa...  +6019 999 5800  \n",
       "1     [https://www.getdoc.com/en/common/image/displa...  +603 7886 4916  \n",
       "2     [https://www.getdoc.com/en/common/image/displa...    +09-5138 175  \n",
       "3     [https://www.getdoc.com/en/common/image/displa...   +03-2011 4336  \n",
       "4     [https://www.getdoc.com/en/common/image/displa...     +04-6452793  \n",
       "...                                                 ...             ...  \n",
       "2017  [https://www.getdoc.com/en/common/image/displa...    +03-61575726  \n",
       "2018  [https://www.getdoc.com/en/common/image/displa...    +6082 457815  \n",
       "2019  [https://www.getdoc.com/en/common/image/displa...   +60 377105828  \n",
       "2020  [https://www.getdoc.com/en/common/image/displa...   +60 380116708  \n",
       "2021  [https://www.getdoc.com/en/common/image/displa...    +03-33597322  \n",
       "\n",
       "[2022 rows x 6 columns]"
      ]
     },
     "execution_count": 38,
     "metadata": {},
     "output_type": "execute_result"
    }
   ],
   "source": [
    "df_main"
   ]
  },
  {
   "cell_type": "code",
   "execution_count": 39,
   "metadata": {},
   "outputs": [],
   "source": [
    "Cardiologist_15_get_doc=df_main.copy()"
   ]
  },
  {
   "cell_type": "code",
   "execution_count": 40,
   "metadata": {},
   "outputs": [],
   "source": [
    "Cardiologist_15_get_doc.to_csv('Cardiologist_15_get_doc.csv')"
   ]
  },
  {
   "cell_type": "code",
   "execution_count": null,
   "metadata": {},
   "outputs": [],
   "source": []
  }
 ],
 "metadata": {
  "kernelspec": {
   "display_name": "Python 3",
   "language": "python",
   "name": "python3"
  },
  "language_info": {
   "codemirror_mode": {
    "name": "ipython",
    "version": 3
   },
   "file_extension": ".py",
   "mimetype": "text/x-python",
   "name": "python",
   "nbconvert_exporter": "python",
   "pygments_lexer": "ipython3",
   "version": "3.8.5"
  }
 },
 "nbformat": 4,
 "nbformat_minor": 4
}
