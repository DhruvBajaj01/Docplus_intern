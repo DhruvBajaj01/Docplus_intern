{
 "cells": [
  {
   "cell_type": "code",
   "execution_count": 1,
   "metadata": {
    "id": "gLcr4LnYpMk_"
   },
   "outputs": [
    {
     "name": "stdout",
     "output_type": "stream",
     "text": [
      "Requirement already satisfied: webdriver_manager in c:\\users\\dhruv bajaj\\anaconda3\\lib\\site-packages (3.4.2)\n",
      "Requirement already satisfied: selenium in c:\\users\\dhruv bajaj\\anaconda3\\lib\\site-packages (3.141.0)\n",
      "Requirement already satisfied: crayons in c:\\users\\dhruv bajaj\\anaconda3\\lib\\site-packages (from webdriver_manager) (0.4.0)\n",
      "Requirement already satisfied: configparser in c:\\users\\dhruv bajaj\\anaconda3\\lib\\site-packages (from webdriver_manager) (5.0.2)\n",
      "Requirement already satisfied: requests in c:\\users\\dhruv bajaj\\anaconda3\\lib\\site-packages (from webdriver_manager) (2.24.0)\n",
      "Requirement already satisfied: urllib3 in c:\\users\\dhruv bajaj\\anaconda3\\lib\\site-packages (from selenium) (1.25.11)\n",
      "Requirement already satisfied: colorama in c:\\users\\dhruv bajaj\\anaconda3\\lib\\site-packages (from crayons->webdriver_manager) (0.4.4)\n",
      "Requirement already satisfied: chardet<4,>=3.0.2 in c:\\users\\dhruv bajaj\\anaconda3\\lib\\site-packages (from requests->webdriver_manager) (3.0.4)\n",
      "Requirement already satisfied: certifi>=2017.4.17 in c:\\users\\dhruv bajaj\\anaconda3\\lib\\site-packages (from requests->webdriver_manager) (2021.5.30)\n",
      "Requirement already satisfied: idna<3,>=2.5 in c:\\users\\dhruv bajaj\\anaconda3\\lib\\site-packages (from requests->webdriver_manager) (2.10)\n"
     ]
    }
   ],
   "source": [
    "!pip install webdriver_manager selenium\n",
    "import pandas as pd\n",
    "from selenium import webdriver\n",
    "from webdriver_manager.chrome import ChromeDriverManager\n",
    "import pandas as pd\n",
    "import time\n",
    "import os\n",
    "from selenium.webdriver.common.action_chains import ActionChains\n",
    "from selenium.webdriver.common.keys import Keys\n",
    "from selenium.webdriver.chrome.service import Service\n",
    "import numpy as np"
   ]
  },
  {
   "cell_type": "code",
   "execution_count": 2,
   "metadata": {
    "executionInfo": {
     "elapsed": 1615,
     "status": "ok",
     "timestamp": 1636549917760,
     "user": {
      "displayName": "Meet Gada",
      "photoUrl": "https://lh3.googleusercontent.com/a/default-user=s64",
      "userId": "07774878370827511031"
     },
     "user_tz": -330
    },
    "id": "6_NtaQ8jpMlD"
   },
   "outputs": [],
   "source": [
    "from bs4 import BeautifulSoup\n",
    "import requests\n",
    "import csv\n"
   ]
  },
  {
   "cell_type": "code",
   "execution_count": 3,
   "metadata": {
    "executionInfo": {
     "elapsed": 3,
     "status": "ok",
     "timestamp": 1636549919692,
     "user": {
      "displayName": "Meet Gada",
      "photoUrl": "https://lh3.googleusercontent.com/a/default-user=s64",
      "userId": "07774878370827511031"
     },
     "user_tz": -330
    },
    "id": "mXvLLV_dpMlE"
   },
   "outputs": [],
   "source": [
    "dm={}"
   ]
  },
  {
   "cell_type": "code",
   "execution_count": 4,
   "metadata": {
    "executionInfo": {
     "elapsed": 2,
     "status": "ok",
     "timestamp": 1636549921063,
     "user": {
      "displayName": "Meet Gada",
      "photoUrl": "https://lh3.googleusercontent.com/a/default-user=s64",
      "userId": "07774878370827511031"
     },
     "user_tz": -330
    },
    "id": "8H71QKcMpMlE"
   },
   "outputs": [],
   "source": [
    "def first_me(city,doc):\n",
    "        chrome_options = webdriver.ChromeOptions()\n",
    "\n",
    "        prefs = {\"profile.default_content_setting_values.notifications\" : 2}\n",
    "\n",
    "        chrome_options.add_experimental_option(\"prefs\",prefs)\n",
    "        \n",
    "        driver = webdriver.Chrome(ChromeDriverManager().install(),options=chrome_options)\n",
    "       \n",
    "        url1=\"https://www.1mg.com/doctors\"\n",
    "        driver.get(url1)\n",
    "        driver.find_element_by_class_name('fa.fa-map-marker').click()\n",
    "        driver.find_element_by_partial_link_text(city).click()\n",
    "        ele = driver.find_element_by_class_name(\"AutoCompleteDefault__input___13_wY\")\n",
    "        ele.send_keys(doc)\n",
    "        ele.send_keys(Keys.ENTER)\n",
    "        time.sleep(5)\n",
    "        lm = driver.find_elements_by_partial_link_text(doc)\n",
    "        for i in range(len(lm)):\n",
    "            name = driver.find_element_by_class_name('DoctorName__name___2fjjE').text\n",
    "            if doc not in name:\n",
    "                break\n",
    "            else:\n",
    "                l = lm[i].get_attribute('href')\n",
    "                d = me_second(l)\n",
    "            dm[i]=d\n",
    "        driver.quit()\n",
    "        return dm"
   ]
  },
  {
   "cell_type": "code",
   "execution_count": 5,
   "metadata": {
    "executionInfo": {
     "elapsed": 2,
     "status": "ok",
     "timestamp": 1636549927044,
     "user": {
      "displayName": "Meet Gada",
      "photoUrl": "https://lh3.googleusercontent.com/a/default-user=s64",
      "userId": "07774878370827511031"
     },
     "user_tz": -330
    },
    "id": "RDK19dYipMlF"
   },
   "outputs": [],
   "source": [
    "def me_second(l):\n",
    "    source = requests.get(l)\n",
    "    #print(source)\n",
    "    soup = BeautifulSoup(source.text, 'lxml')\n",
    "    name = soup.find_all('div', class_='DoctorName__name___2fjjE')[1].text\n",
    "    print(name)\n",
    "    rating = soup.find_all('div', class_='hide-on-med-and-down')[1].find_all('div')[1].find('span').text.strip()\n",
    "    print(rating)\n",
    "    speciality = soup.find_all('div', class_='hide-on-med-and-down')[2].find('div').find_all('div')[1].find('div').text.strip()\n",
    "    print(speciality)\n",
    "    eds = soup.find('div', {'style':'display:inline-block;vertical-align:middle;margin:0px 0px 4px 8px;max-width:87%'})\n",
    "    eds = eds.find_all('span')\n",
    "    education = ''\n",
    "    for ed in eds:\n",
    "        education = education + ed.text + ' '\n",
    "    print(education)\n",
    "    d= {\n",
    "        'doctor_name': name,\n",
    "        'rating':rating,\n",
    "        'speciality': speciality,\n",
    "        'education': education ,\n",
    "        'conditions Treated': np.nan,\n",
    "        'procedures': np.nan\n",
    "    }\n",
    "    return d"
   ]
  },
  {
   "cell_type": "code",
   "execution_count": 6,
   "metadata": {
    "colab": {
     "base_uri": "https://localhost:8080/",
     "height": 493
    },
    "executionInfo": {
     "elapsed": 1086,
     "status": "error",
     "timestamp": 1636549930883,
     "user": {
      "displayName": "Meet Gada",
      "photoUrl": "https://lh3.googleusercontent.com/a/default-user=s64",
      "userId": "07774878370827511031"
     },
     "user_tz": -330
    },
    "id": "bwxEzBnUpMlG",
    "outputId": "ac76272f-105f-4514-b5c2-7f770a09d440"
   },
   "outputs": [
    {
     "name": "stderr",
     "output_type": "stream",
     "text": [
      "\n",
      "\n",
      "====== WebDriver manager ======\n",
      "Current google-chrome version is 95.0.4638\n",
      "Get LATEST driver version for 95.0.4638\n",
      "There is no [win32] chromedriver for browser 95.0.4638 in cache\n",
      "Get LATEST driver version for 95.0.4638\n",
      "Trying to download new driver from https://chromedriver.storage.googleapis.com/95.0.4638.69/chromedriver_win32.zip\n",
      "Driver has been saved in cache [C:\\Users\\Dhruv Bajaj\\.wdm\\drivers\\chromedriver\\win32\\95.0.4638.69]\n"
     ]
    },
    {
     "name": "stdout",
     "output_type": "stream",
     "text": [
      "Dr. Ramesh Dutta\n",
      "4.7\n",
      "Paediatrics\n",
      "MBBS Diploma  - Child Health \n",
      "Dr. Ramesh Dutta\n",
      "4\n",
      "Gynaecological Oncology\n",
      "MBBS \n"
     ]
    }
   ],
   "source": [
    "info = first_me(\"New Delhi\" ,\"Ramesh Dutta\")"
   ]
  },
  {
   "cell_type": "code",
   "execution_count": 7,
   "metadata": {
    "id": "MfNnZcPspMlH",
    "outputId": "9fd03932-578f-47a8-df39-fb4f23f79bfa"
   },
   "outputs": [
    {
     "data": {
      "text/plain": [
       "{0: {'doctor_name': 'Dr. Ramesh Dutta',\n",
       "  'rating': '4.7',\n",
       "  'speciality': 'Paediatrics',\n",
       "  'education': 'MBBS Diploma  - Child Health ',\n",
       "  'conditions Treated': nan,\n",
       "  'procedures': nan},\n",
       " 1: {'doctor_name': 'Dr. Ramesh Dutta',\n",
       "  'rating': '4',\n",
       "  'speciality': 'Gynaecological Oncology',\n",
       "  'education': 'MBBS ',\n",
       "  'conditions Treated': nan,\n",
       "  'procedures': nan}}"
      ]
     },
     "execution_count": 7,
     "metadata": {},
     "output_type": "execute_result"
    }
   ],
   "source": [
    "info"
   ]
  },
  {
   "cell_type": "code",
   "execution_count": null,
   "metadata": {},
   "outputs": [],
   "source": []
  }
 ],
 "metadata": {
  "colab": {
   "name": "1mg_info_fetch_script.ipynb",
   "provenance": []
  },
  "kernelspec": {
   "display_name": "Python 3",
   "language": "python",
   "name": "python3"
  },
  "language_info": {
   "codemirror_mode": {
    "name": "ipython",
    "version": 3
   },
   "file_extension": ".py",
   "mimetype": "text/x-python",
   "name": "python",
   "nbconvert_exporter": "python",
   "pygments_lexer": "ipython3",
   "version": "3.8.5"
  }
 },
 "nbformat": 4,
 "nbformat_minor": 4
}
